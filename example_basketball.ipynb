{
 "cells": [
  {
   "cell_type": "code",
   "execution_count": 2,
   "metadata": {},
   "outputs": [
    {
     "data": {
      "text/plain": [
       "[<matplotlib.lines.Line2D at 0x115672cf8>]"
      ]
     },
     "execution_count": 2,
     "metadata": {},
     "output_type": "execute_result"
    }
   ],
   "source": [
    "import matplotlib.pyplot as plt\n",
    "from scipy.stats import binom\n",
    "import numpy as np\n",
    "import math\n",
    "\n",
    "trials = 100\n",
    "prob_two_point = 0.6\n",
    "prob_three_point = 0.4\n",
    "\n",
    "inputs_two_point = [binom.ppf(x, trials, prob_two_point) for x in np.arange(0, 1, 0.01)]\n",
    "inputs_three_point = [binom.ppf(x, trials, prob_three_point) for x in np.arange(0, 1, 0.01)]\n",
    "pdf_two_point = [binom.pmf(x, trials, prob_two_point) for x in inputs_two_point]\n",
    "pdf_three_point = [binom.pmf(x, trials, prob_three_point) for x in inputs_three_point]\n",
    "plt.plot(inputs_two_point[1:], pdf_two_point[1:])\n",
    "plt.plot(inputs_three_point[1:], pdf_three_point[1:])"
   ]
  },
  {
   "cell_type": "code",
   "execution_count": 27,
   "metadata": {},
   "outputs": [
    {
     "data": {
      "image/png": "[encoded data removed]",
      "text/plain": [
       "<Figure size 432x288 with 2 Axes>"
      ]
     },
     "metadata": {
      "needs_background": "light"
     },
     "output_type": "display_data"
    }
   ],
   "source": [
    "trials = 100\n",
    "prob_two_point = 0.6\n",
    "prob_three_point = 0.4\n",
    "\n",
    "fig, axs = plt.subplots(2, 1)\n",
    "\n",
    "shot_attempts = list(range(101))\n",
    "points_twos = [2*s for s in shot_attempts]\n",
    "points_threes = [3*s for s in shot_attempts]\n",
    "pdf_two_point = [1 / 2 * binom.pmf(x, trials, prob_two_point) for x in shot_attempts]\n",
    "pdf_three_point = [1 / 3 * binom.pmf(x, trials, prob_three_point) for x in shot_attempts]\n",
    "axs[0].plot(points_twos[34:90], pdf_two_point[34:90], label='two_point')\n",
    "axs[0].plot(points_threes[23:60], pdf_three_point[23:60], label='three_point')\n",
    "axs[0].legend(loc='upper left')\n",
    "axs[0].set_title('point pdf')\n",
    "\n",
    "cdf_two_point = np.array(pdf_two_point).cumsum() * 2\n",
    "cdf_three_point = np.array(pdf_three_point).cumsum() * 3\n",
    "axs[1].plot(points_twos[34:95], cdf_two_point[34:95], label='two_point')\n",
    "axs[1].plot(points_threes[20:70], cdf_three_point[20:70], label='three_point')\n",
    "axs[1].legend(loc='upper left')\n",
    "axs[1].set_title('point cdf')\n",
    "plt.tight_layout()"
   ]
  },
  {
   "cell_type": "code",
   "execution_count": 120,
   "metadata": {},
   "outputs": [],
   "source": [
    "def game_outcome_probabilities(shot_attempts, prob_three, prob_two):\n",
    "    \"\"\"probability of a three point only shooting team beating a two point only \n",
    "    shooting team x_N_pt = number of baskets made for the N point shooting team\n",
    "    Prob(three_point_team_wins) =\n",
    "    Prob(two_point_team_points < three_point_team_points) = \n",
    "    P(2*x_two_pt < 3*x_three_pt) =\n",
    "    P(x_two_pt < 1.5*x_three_pt) =\n",
    "    Sum[n=0..trials]P(x_two_pt < 1.5*x_three_pt|x_three_pt = n)P(x_three_pt = n)\n",
    "\n",
    "    Args:\n",
    "        shot_attempts (int): number of shots taken by each team\n",
    "        prob_three (float): probability of score for the three point taking team\n",
    "        prob_two (float): probability of score for the two point taking team\n",
    "\n",
    "    Returns:\n",
    "        float: probability that team 3 beats team 2\n",
    "    \"\"\"\n",
    "    prob_three_wins = 0\n",
    "    prob_tie = 0\n",
    "    for made_threes in np.arange(shot_attempts + 1):\n",
    "        prob_made_threes = binom.pmf(made_threes, shot_attempts, prob_three)\n",
    "        max_two_made_still_lose = math.floor(1.5*made_threes)\n",
    "        if 2 * max_two_made_still_lose == 3 * made_threes:\n",
    "            prob_tie = (prob_tie\n",
    "                        + binom.pmf(max_two_made_still_lose, shot_attempts, prob_two)\n",
    "                        * prob_made_threes)\n",
    "            max_two_made_still_lose = max_two_made_still_lose - 1\n",
    "        if max_two_made_still_lose < 0:\n",
    "            continue\n",
    "        two_make_cdf = binom.cdf(max_two_made_still_lose, shot_attempts, prob_two)\n",
    "        prob_three_wins = prob_three_wins + two_make_cdf * prob_made_threes\n",
    "        \n",
    "        res = {'three wins': prob_three_wins, \n",
    "               'tie': prob_tie, \n",
    "               'two wins': 1 - prob_three_wins - prob_tie}\n",
    "    return res"
   ]
  },
  {
   "cell_type": "code",
   "execution_count": 121,
   "metadata": {},
   "outputs": [
    {
     "data": {
      "text/plain": [
       "{'three wins': 0.48669876602489426,\n",
       " 'tie': 0.022551579228201415,\n",
       " 'two wins': 0.49074965474690435}"
      ]
     },
     "execution_count": 121,
     "metadata": {},
     "output_type": "execute_result"
    }
   ],
   "source": [
    "game_outcome_probabilities(100, 0.4, 0.6)"
   ]
  },
  {
   "cell_type": "code",
   "execution_count": null,
   "metadata": {},
   "outputs": [],
   "source": []
  },
  {
   "cell_type": "code",
   "execution_count": null,
   "metadata": {},
   "outputs": [],
   "source": []
  }
 ],
 "metadata": {
  "kernelspec": {
   "display_name": "Python 3",
   "language": "python",
   "name": "python3"
  },
  "language_info": {
   "codemirror_mode": {
    "name": "ipython",
    "version": 3
   },
   "file_extension": ".py",
   "mimetype": "text/x-python",
   "name": "python",
   "nbconvert_exporter": "python",
   "pygments_lexer": "ipython3",
   "version": "3.7.3"
  }
 },
 "nbformat": 4,
 "nbformat_minor": 2
}
