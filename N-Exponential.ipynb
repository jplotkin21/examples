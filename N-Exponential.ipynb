{
 "cells": [
  {
   "cell_type": "code",
   "execution_count": 1,
   "metadata": {},
   "outputs": [],
   "source": [
    "import numpy as np\n",
    "from matplotlib.pyplot import plot"
   ]
  },
  {
   "cell_type": "code",
   "execution_count": 2,
   "metadata": {},
   "outputs": [],
   "source": [
    "t0 = np.array([0.05, 0.2, 0.5, 1, 1.5], ndmin=2)\n",
    "alpha = np.array([10, 5, 2, 1, 0.5], ndmin=2)\n",
    "sigma0 = np.array([0.14, 0.08, 0.1, 0.12, 0.15], ndmin=2)\n",
    "\n",
    "n_exp_size = sigma0.shape[1]\n",
    "xbar = np.full(n_exp_size, 0.2).reshape((1,n_exp_size))"
   ]
  },
  {
   "cell_type": "code",
   "execution_count": 3,
   "metadata": {},
   "outputs": [],
   "source": [
    "weight_mat = np.exp(-t0.T * alpha)\n",
    "c = np.linalg.inv(weight_mat) @ (sigma0 - xbar).T"
   ]
  },
  {
   "cell_type": "code",
   "execution_count": 4,
   "metadata": {},
   "outputs": [
    {
     "data": {
      "text/plain": [
       "True"
      ]
     },
     "execution_count": 4,
     "metadata": {},
     "output_type": "execute_result"
    }
   ],
   "source": [
    "all(((weight_mat @ c + xbar.T) - sigma0.T) < 1e-6)"
   ]
  },
  {
   "cell_type": "code",
   "execution_count": 5,
   "metadata": {},
   "outputs": [],
   "source": [
    "t = np.arange(0, 2, 0.05)"
   ]
  },
  {
   "cell_type": "code",
   "execution_count": 6,
   "metadata": {},
   "outputs": [],
   "source": [
    "term_struct = np.exp(-t.reshape((len(t), 1)) @ alpha.reshape((1, n_exp_size))) @ c + xbar[0, 0]"
   ]
  },
  {
   "cell_type": "code",
   "execution_count": 7,
   "metadata": {},
   "outputs": [
    {
     "data": {
      "text/plain": [
       "[<matplotlib.lines.Line2D at 0x121da0668>]"
      ]
     },
     "execution_count": 7,
     "metadata": {},
     "output_type": "execute_result"
    },
    {
     "data": {
      "image/png": "[encoded data removed]",
      "text/plain": [
       "<Figure size 432x288 with 1 Axes>"
      ]
     },
     "metadata": {
      "needs_background": "light"
     },
     "output_type": "display_data"
    }
   ],
   "source": [
    "plot(t, term_struct)"
   ]
  },
  {
   "cell_type": "code",
   "execution_count": 8,
   "metadata": {},
   "outputs": [
    {
     "ename": "ValueError",
     "evalue": "cannot reshape array of size 80 into shape (40,5)",
     "output_type": "error",
     "traceback": [
      "\u001b[0;31m---------------------------------------------------------------------------\u001b[0m",
      "\u001b[0;31mValueError\u001b[0m                                Traceback (most recent call last)",
      "\u001b[0;32m<ipython-input-8-c4f43ad2d235>\u001b[0m in \u001b[0;36m<module>\u001b[0;34m\u001b[0m\n\u001b[0;32m----> 1\u001b[0;31m term_struct = (np.dstack((np.exp(-alpha[0, 0] * t), np.exp(-alpha[0, 1] * t))).reshape((len(t), n_exp_size)) @ c \n\u001b[0m\u001b[1;32m      2\u001b[0m                + xbar[0, 0])\n",
      "\u001b[0;31mValueError\u001b[0m: cannot reshape array of size 80 into shape (40,5)"
     ]
    }
   ],
   "source": [
    "term_struct = (np.dstack((np.exp(-alpha[0, 0] * t), np.exp(-alpha[0, 1] * t))).reshape((len(t), n_exp_size)) @ c \n",
    "               + xbar[0, 0])"
   ]
  }
 ],
 "metadata": {
  "kernelspec": {
   "display_name": "Python 3",
   "language": "python",
   "name": "python3"
  },
  "language_info": {
   "codemirror_mode": {
    "name": "ipython",
    "version": 3
   },
   "file_extension": ".py",
   "mimetype": "text/x-python",
   "name": "python",
   "nbconvert_exporter": "python",
   "pygments_lexer": "ipython3",
   "version": "3.7.3"
  }
 },
 "nbformat": 4,
 "nbformat_minor": 2
}
